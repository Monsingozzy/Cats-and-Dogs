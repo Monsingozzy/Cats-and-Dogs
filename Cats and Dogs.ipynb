{
 "cells": [
  {
   "cell_type": "markdown",
   "metadata": {},
   "source": [
    "# Cats and Dogs"
   ]
  },
  {
   "cell_type": "code",
   "execution_count": null,
   "metadata": {},
   "outputs": [],
   "source": [
    "try:\n",
    "    t=int(input())\n",
    "    for _ in range(t):\n",
    "        c,d,l=map(int,input().split()) #input\n",
    "        max=(c+d)*4 #mul cat dog to 4 by take max legs value \n",
    "        min=d*4 #min in that only dog\n",
    "        if c>2*d: #check more 2 cats mul to dog then chenge min value to actual legs\n",
    "            min=max-2*min\n",
    "        if l>max or l<min or l%4!=0: # if legs are max min or avr is not 0 by l of input values then print no else yes\n",
    "            print(\"no\")\n",
    "        else:\n",
    "            print(\"yes\")\n",
    "except:\n",
    "    pass"
   ]
  },
  {
   "cell_type": "markdown",
   "metadata": {},
   "source": [
    "## step1: take steps input in t \n",
    "\n",
    "## step2 : process loop from start to end \n",
    "\n",
    "## step3 :take input value in l and check maximum legs that multiply by 4 with cats and dogs \n",
    "\n",
    "## step4 : check value that minimum by multiply only dog by 4\n",
    "\n",
    "## step5 :check if cats > 2 then mul by total dogs we get total and assign min value \n",
    "\n",
    "## step6 : check if input are > max or < min or the avr of its is not 0 then print no else yes "
   ]
  },
  {
   "cell_type": "code",
   "execution_count": null,
   "metadata": {},
   "outputs": [],
   "source": []
  }
 ],
 "metadata": {
  "kernelspec": {
   "display_name": "Python 3",
   "language": "python",
   "name": "python3"
  },
  "language_info": {
   "codemirror_mode": {
    "name": "ipython",
    "version": 3
   },
   "file_extension": ".py",
   "mimetype": "text/x-python",
   "name": "python",
   "nbconvert_exporter": "python",
   "pygments_lexer": "ipython3",
   "version": "3.7.9"
  }
 },
 "nbformat": 4,
 "nbformat_minor": 4
}
